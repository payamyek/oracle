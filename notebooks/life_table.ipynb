{
 "cells": [
  {
   "cell_type": "markdown",
   "metadata": {},
   "source": [
    "# Life Table"
   ]
  },
  {
   "cell_type": "markdown",
   "metadata": {},
   "source": [
    "## Extract Data"
   ]
  },
  {
   "cell_type": "code",
   "execution_count": 34,
   "metadata": {},
   "outputs": [],
   "source": [
    "import pandas as pd\n",
    "\n",
    "LIFE_TABLE_COLS = [\"age\", \"i_x\", \"d_x\", \"q_x\", \"m_e_q_x\", \"p_x\", \"L_x\", \"T_x\", \"e_x\", \"m_e_e_x\"]\n",
    "DATA_FILE_PATH = \"../data\""
   ]
  },
  {
   "cell_type": "code",
   "execution_count": 35,
   "metadata": {},
   "outputs": [],
   "source": [
    "canada_male_life_table_df = pd.read_excel(\n",
    "    f\"{DATA_FILE_PATH}/canada_life_table.xlsx\",\n",
    "    sheet_name=\"2023\",\n",
    "    skiprows=21,\n",
    "    nrows=111,\n",
    "    usecols=list(range(1, 11)),\n",
    "    names=LIFE_TABLE_COLS,\n",
    ")\n",
    "canada_male_life_table_df[\"age\"] = canada_male_life_table_df[\"age\"].str.extract(r\"(\\d+)\")"
   ]
  },
  {
   "cell_type": "code",
   "execution_count": 36,
   "metadata": {},
   "outputs": [
    {
     "data": {
      "application/vnd.microsoft.datawrangler.viewer.v0+json": {
       "columns": [
        {
         "name": "index",
         "rawType": "int64",
         "type": "integer"
        },
        {
         "name": "age",
         "rawType": "object",
         "type": "string"
        },
        {
         "name": "i_x",
         "rawType": "int64",
         "type": "integer"
        },
        {
         "name": "d_x",
         "rawType": "int64",
         "type": "integer"
        },
        {
         "name": "q_x",
         "rawType": "float64",
         "type": "float"
        },
        {
         "name": "m_e_q_x",
         "rawType": "float64",
         "type": "float"
        },
        {
         "name": "p_x",
         "rawType": "float64",
         "type": "float"
        },
        {
         "name": "L_x",
         "rawType": "int64",
         "type": "integer"
        },
        {
         "name": "T_x",
         "rawType": "int64",
         "type": "integer"
        },
        {
         "name": "e_x",
         "rawType": "float64",
         "type": "float"
        },
        {
         "name": "m_e_e_x",
         "rawType": "object",
         "type": "unknown"
        }
       ],
       "conversionMethod": "pd.DataFrame",
       "ref": "4bdcb5ec-8cc8-4cdd-963b-30a4b005102b",
       "rows": [
        [
         "0",
         "0",
         "100000",
         "496",
         "0.00496",
         "0.00032",
         "0.99504",
         "99545",
         "7951265",
         "79.51",
         "0.06"
        ],
        [
         "1",
         "1",
         "99504",
         "40",
         "0.0004",
         "9e-05",
         "0.9996",
         "99484",
         "7851721",
         "78.91",
         "0.06"
        ],
        [
         "2",
         "2",
         "99464",
         "26",
         "0.00027",
         "7e-05",
         "0.99973",
         "99451",
         "7752237",
         "77.94",
         "0.06"
        ],
        [
         "3",
         "3",
         "99438",
         "19",
         "0.00019",
         "6e-05",
         "0.99981",
         "99430",
         "7652786",
         "76.96",
         "0.06"
        ],
        [
         "4",
         "4",
         "99419",
         "14",
         "0.00014",
         "5e-05",
         "0.99986",
         "99410",
         "7553356",
         "75.97",
         "0.06"
        ]
       ],
       "shape": {
        "columns": 10,
        "rows": 5
       }
      },
      "text/html": [
       "<div>\n",
       "<style scoped>\n",
       "    .dataframe tbody tr th:only-of-type {\n",
       "        vertical-align: middle;\n",
       "    }\n",
       "\n",
       "    .dataframe tbody tr th {\n",
       "        vertical-align: top;\n",
       "    }\n",
       "\n",
       "    .dataframe thead th {\n",
       "        text-align: right;\n",
       "    }\n",
       "</style>\n",
       "<table border=\"1\" class=\"dataframe\">\n",
       "  <thead>\n",
       "    <tr style=\"text-align: right;\">\n",
       "      <th></th>\n",
       "      <th>age</th>\n",
       "      <th>i_x</th>\n",
       "      <th>d_x</th>\n",
       "      <th>q_x</th>\n",
       "      <th>m_e_q_x</th>\n",
       "      <th>p_x</th>\n",
       "      <th>L_x</th>\n",
       "      <th>T_x</th>\n",
       "      <th>e_x</th>\n",
       "      <th>m_e_e_x</th>\n",
       "    </tr>\n",
       "  </thead>\n",
       "  <tbody>\n",
       "    <tr>\n",
       "      <th>0</th>\n",
       "      <td>0</td>\n",
       "      <td>100000</td>\n",
       "      <td>496</td>\n",
       "      <td>0.00496</td>\n",
       "      <td>0.00032</td>\n",
       "      <td>0.99504</td>\n",
       "      <td>99545</td>\n",
       "      <td>7951265</td>\n",
       "      <td>79.51</td>\n",
       "      <td>0.06</td>\n",
       "    </tr>\n",
       "    <tr>\n",
       "      <th>1</th>\n",
       "      <td>1</td>\n",
       "      <td>99504</td>\n",
       "      <td>40</td>\n",
       "      <td>0.00040</td>\n",
       "      <td>0.00009</td>\n",
       "      <td>0.99960</td>\n",
       "      <td>99484</td>\n",
       "      <td>7851721</td>\n",
       "      <td>78.91</td>\n",
       "      <td>0.06</td>\n",
       "    </tr>\n",
       "    <tr>\n",
       "      <th>2</th>\n",
       "      <td>2</td>\n",
       "      <td>99464</td>\n",
       "      <td>26</td>\n",
       "      <td>0.00027</td>\n",
       "      <td>0.00007</td>\n",
       "      <td>0.99973</td>\n",
       "      <td>99451</td>\n",
       "      <td>7752237</td>\n",
       "      <td>77.94</td>\n",
       "      <td>0.06</td>\n",
       "    </tr>\n",
       "    <tr>\n",
       "      <th>3</th>\n",
       "      <td>3</td>\n",
       "      <td>99438</td>\n",
       "      <td>19</td>\n",
       "      <td>0.00019</td>\n",
       "      <td>0.00006</td>\n",
       "      <td>0.99981</td>\n",
       "      <td>99430</td>\n",
       "      <td>7652786</td>\n",
       "      <td>76.96</td>\n",
       "      <td>0.06</td>\n",
       "    </tr>\n",
       "    <tr>\n",
       "      <th>4</th>\n",
       "      <td>4</td>\n",
       "      <td>99419</td>\n",
       "      <td>14</td>\n",
       "      <td>0.00014</td>\n",
       "      <td>0.00005</td>\n",
       "      <td>0.99986</td>\n",
       "      <td>99410</td>\n",
       "      <td>7553356</td>\n",
       "      <td>75.97</td>\n",
       "      <td>0.06</td>\n",
       "    </tr>\n",
       "  </tbody>\n",
       "</table>\n",
       "</div>"
      ],
      "text/plain": [
       "  age     i_x  d_x      q_x  m_e_q_x      p_x    L_x      T_x    e_x m_e_e_x\n",
       "0   0  100000  496  0.00496  0.00032  0.99504  99545  7951265  79.51    0.06\n",
       "1   1   99504   40  0.00040  0.00009  0.99960  99484  7851721  78.91    0.06\n",
       "2   2   99464   26  0.00027  0.00007  0.99973  99451  7752237  77.94    0.06\n",
       "3   3   99438   19  0.00019  0.00006  0.99981  99430  7652786  76.96    0.06\n",
       "4   4   99419   14  0.00014  0.00005  0.99986  99410  7553356  75.97    0.06"
      ]
     },
     "execution_count": 36,
     "metadata": {},
     "output_type": "execute_result"
    }
   ],
   "source": [
    "canada_male_life_table_df.head()"
   ]
  },
  {
   "cell_type": "code",
   "execution_count": 37,
   "metadata": {},
   "outputs": [],
   "source": [
    "canada_female_life_table_df = pd.read_excel(\n",
    "    f\"{DATA_FILE_PATH}/canada_life_table.xlsx\",\n",
    "    sheet_name=\"2023\",\n",
    "    skiprows=21,\n",
    "    nrows=111,\n",
    "    usecols=list(range(12, 22)),\n",
    "    names=LIFE_TABLE_COLS,\n",
    ")\n",
    "canada_female_life_table_df[\"age\"] = canada_male_life_table_df[\"age\"].str.extract(r\"(\\d+)\")"
   ]
  },
  {
   "cell_type": "code",
   "execution_count": 38,
   "metadata": {},
   "outputs": [
    {
     "data": {
      "application/vnd.microsoft.datawrangler.viewer.v0+json": {
       "columns": [
        {
         "name": "index",
         "rawType": "int64",
         "type": "integer"
        },
        {
         "name": "age",
         "rawType": "object",
         "type": "string"
        },
        {
         "name": "i_x",
         "rawType": "int64",
         "type": "integer"
        },
        {
         "name": "d_x",
         "rawType": "int64",
         "type": "integer"
        },
        {
         "name": "q_x",
         "rawType": "float64",
         "type": "float"
        },
        {
         "name": "m_e_q_x",
         "rawType": "float64",
         "type": "float"
        },
        {
         "name": "p_x",
         "rawType": "float64",
         "type": "float"
        },
        {
         "name": "L_x",
         "rawType": "int64",
         "type": "integer"
        },
        {
         "name": "T_x",
         "rawType": "int64",
         "type": "integer"
        },
        {
         "name": "e_x",
         "rawType": "float64",
         "type": "float"
        },
        {
         "name": "m_e_e_x",
         "rawType": "object",
         "type": "unknown"
        }
       ],
       "conversionMethod": "pd.DataFrame",
       "ref": "33a7f660-b590-46e9-9421-7c271330707a",
       "rows": [
        [
         "0",
         "0",
         "100000",
         "410",
         "0.0041",
         "0.0003",
         "0.9959",
         "99639",
         "8389254",
         "83.89",
         "0.06"
        ],
        [
         "1",
         "1",
         "99590",
         "23",
         "0.00023",
         "7e-05",
         "0.99977",
         "99580",
         "8289615",
         "83.24",
         "0.06"
        ],
        [
         "2",
         "2",
         "99567",
         "19",
         "0.00019",
         "6e-05",
         "0.99981",
         "99557",
         "8190035",
         "82.26",
         "0.06"
        ],
        [
         "3",
         "3",
         "99548",
         "15",
         "0.00015",
         "6e-05",
         "0.99985",
         "99541",
         "8090478",
         "81.27",
         "0.06"
        ],
        [
         "4",
         "4",
         "99533",
         "13",
         "0.00013",
         "5e-05",
         "0.99987",
         "99528",
         "7990937",
         "80.28",
         "0.06"
        ]
       ],
       "shape": {
        "columns": 10,
        "rows": 5
       }
      },
      "text/html": [
       "<div>\n",
       "<style scoped>\n",
       "    .dataframe tbody tr th:only-of-type {\n",
       "        vertical-align: middle;\n",
       "    }\n",
       "\n",
       "    .dataframe tbody tr th {\n",
       "        vertical-align: top;\n",
       "    }\n",
       "\n",
       "    .dataframe thead th {\n",
       "        text-align: right;\n",
       "    }\n",
       "</style>\n",
       "<table border=\"1\" class=\"dataframe\">\n",
       "  <thead>\n",
       "    <tr style=\"text-align: right;\">\n",
       "      <th></th>\n",
       "      <th>age</th>\n",
       "      <th>i_x</th>\n",
       "      <th>d_x</th>\n",
       "      <th>q_x</th>\n",
       "      <th>m_e_q_x</th>\n",
       "      <th>p_x</th>\n",
       "      <th>L_x</th>\n",
       "      <th>T_x</th>\n",
       "      <th>e_x</th>\n",
       "      <th>m_e_e_x</th>\n",
       "    </tr>\n",
       "  </thead>\n",
       "  <tbody>\n",
       "    <tr>\n",
       "      <th>0</th>\n",
       "      <td>0</td>\n",
       "      <td>100000</td>\n",
       "      <td>410</td>\n",
       "      <td>0.00410</td>\n",
       "      <td>0.00030</td>\n",
       "      <td>0.99590</td>\n",
       "      <td>99639</td>\n",
       "      <td>8389254</td>\n",
       "      <td>83.89</td>\n",
       "      <td>0.06</td>\n",
       "    </tr>\n",
       "    <tr>\n",
       "      <th>1</th>\n",
       "      <td>1</td>\n",
       "      <td>99590</td>\n",
       "      <td>23</td>\n",
       "      <td>0.00023</td>\n",
       "      <td>0.00007</td>\n",
       "      <td>0.99977</td>\n",
       "      <td>99580</td>\n",
       "      <td>8289615</td>\n",
       "      <td>83.24</td>\n",
       "      <td>0.06</td>\n",
       "    </tr>\n",
       "    <tr>\n",
       "      <th>2</th>\n",
       "      <td>2</td>\n",
       "      <td>99567</td>\n",
       "      <td>19</td>\n",
       "      <td>0.00019</td>\n",
       "      <td>0.00006</td>\n",
       "      <td>0.99981</td>\n",
       "      <td>99557</td>\n",
       "      <td>8190035</td>\n",
       "      <td>82.26</td>\n",
       "      <td>0.06</td>\n",
       "    </tr>\n",
       "    <tr>\n",
       "      <th>3</th>\n",
       "      <td>3</td>\n",
       "      <td>99548</td>\n",
       "      <td>15</td>\n",
       "      <td>0.00015</td>\n",
       "      <td>0.00006</td>\n",
       "      <td>0.99985</td>\n",
       "      <td>99541</td>\n",
       "      <td>8090478</td>\n",
       "      <td>81.27</td>\n",
       "      <td>0.06</td>\n",
       "    </tr>\n",
       "    <tr>\n",
       "      <th>4</th>\n",
       "      <td>4</td>\n",
       "      <td>99533</td>\n",
       "      <td>13</td>\n",
       "      <td>0.00013</td>\n",
       "      <td>0.00005</td>\n",
       "      <td>0.99987</td>\n",
       "      <td>99528</td>\n",
       "      <td>7990937</td>\n",
       "      <td>80.28</td>\n",
       "      <td>0.06</td>\n",
       "    </tr>\n",
       "  </tbody>\n",
       "</table>\n",
       "</div>"
      ],
      "text/plain": [
       "  age     i_x  d_x      q_x  m_e_q_x      p_x    L_x      T_x    e_x m_e_e_x\n",
       "0   0  100000  410  0.00410  0.00030  0.99590  99639  8389254  83.89    0.06\n",
       "1   1   99590   23  0.00023  0.00007  0.99977  99580  8289615  83.24    0.06\n",
       "2   2   99567   19  0.00019  0.00006  0.99981  99557  8190035  82.26    0.06\n",
       "3   3   99548   15  0.00015  0.00006  0.99985  99541  8090478  81.27    0.06\n",
       "4   4   99533   13  0.00013  0.00005  0.99987  99528  7990937  80.28    0.06"
      ]
     },
     "execution_count": 38,
     "metadata": {},
     "output_type": "execute_result"
    }
   ],
   "source": [
    "canada_female_life_table_df.head()"
   ]
  },
  {
   "cell_type": "markdown",
   "metadata": {},
   "source": [
    "## Save Data"
   ]
  },
  {
   "cell_type": "code",
   "execution_count": 39,
   "metadata": {},
   "outputs": [],
   "source": [
    "canada_female_life_table_df.to_pickle(f\"{DATA_FILE_PATH}/canada_female_life_table.pkl\")\n",
    "canada_male_life_table_df.to_pickle(f\"{DATA_FILE_PATH}/canada_male_life_table.pkl\")"
   ]
  }
 ],
 "metadata": {
  "kernelspec": {
   "display_name": ".venv",
   "language": "python",
   "name": "python3"
  },
  "language_info": {
   "codemirror_mode": {
    "name": "ipython",
    "version": 3
   },
   "file_extension": ".py",
   "mimetype": "text/x-python",
   "name": "python",
   "nbconvert_exporter": "python",
   "pygments_lexer": "ipython3",
   "version": "3.13.0"
  }
 },
 "nbformat": 4,
 "nbformat_minor": 2
}
